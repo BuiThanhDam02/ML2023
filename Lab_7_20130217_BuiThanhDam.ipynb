{
  "nbformat": 4,
  "nbformat_minor": 0,
  "metadata": {
    "colab": {
      "provenance": [],
      "include_colab_link": true
    },
    "kernelspec": {
      "name": "python3",
      "display_name": "Python 3"
    },
    "language_info": {
      "name": "python"
    }
  },
  "cells": [
    {
      "cell_type": "markdown",
      "metadata": {
        "id": "view-in-github",
        "colab_type": "text"
      },
      "source": [
        "<a href=\"https://colab.research.google.com/github/BuiThanhDam02/ML2023/blob/main/Lab_7_20130217_BuiThanhDam.ipynb\" target=\"_parent\"><img src=\"https://colab.research.google.com/assets/colab-badge.svg\" alt=\"Open In Colab\"/></a>"
      ]
    },
    {
      "cell_type": "markdown",
      "source": [
        "# This lab deals with **cross validation** for some classification algorithms and **clustering methods**. \n",
        "\n",
        "*   **Deadline: 23:59, 10/4/2023**\n",
        "\n"
      ],
      "metadata": {
        "id": "LMzehe0sy5wr"
      }
    },
    {
      "cell_type": "markdown",
      "source": [
        "# Import libraries"
      ],
      "metadata": {
        "id": "H4nJmxp9zGX4"
      }
    },
    {
      "cell_type": "code",
      "execution_count": 1,
      "metadata": {
        "id": "DoVWQ8AEyc-C"
      },
      "outputs": [],
      "source": [
        "# code\n",
        "from sklearn.model_selection import cross_validate\n",
        "from sklearn.model_selection import KFold\n",
        "from sklearn.model_selection import cross_val_score\n",
        "from sklearn.metrics import accuracy_score ,make_scorer,precision_score\n",
        "from sklearn import metrics\n",
        "import numpy as np\n",
        "from scipy.stats import mode\n",
        "import pandas as pd\n",
        "from prettytable import  PrettyTable\n",
        "from sklearn import datasets\n",
        "from sklearn.neighbors import KNeighborsClassifier\n",
        "from sklearn import svm\n",
        "from sklearn.feature_selection import SelectKBest, chi2\n",
        "from sklearn.feature_selection import SelectFromModel\n",
        "from sklearn.ensemble import RandomForestClassifier\n",
        "from sklearn.model_selection import train_test_split\n",
        "from sklearn.naive_bayes import GaussianNB\n",
        "from sklearn.cluster import KMeans"
      ]
    },
    {
      "cell_type": "markdown",
      "source": [
        "#Task 1. With **iris** dataset\n",
        "*  1.1. Apply **SVM** algorithm with cross validation\n"
      ],
      "metadata": {
        "id": "x_dG9SA5OhGT"
      }
    },
    {
      "cell_type": "code",
      "source": [
        "#code\n",
        "dataset = datasets.load_iris()\n",
        "Xtrain = dataset['data']\n",
        "ytrain = dataset['target']\n",
        "clf = svm.SVC(kernel=\"sigmoid\",random_state=0)\n",
        "clf.fit(Xtrain, ytrain)\n",
        "x_train, x_test, y_train, y_test = train_test_split(Xtrain,ytrain, test_size = 0.3, random_state = 0)\n",
        "\n",
        "\n",
        "scores = cross_validate(clf,x_train,y_train,scoring='accuracy',cv=10)\n",
        "print(sorted(scores.keys()))\n",
        "print(np.mean(scores['test_score']))\n",
        "\n"
      ],
      "metadata": {
        "id": "62jExOZ952fF",
        "colab": {
          "base_uri": "https://localhost:8080/"
        },
        "outputId": "f5aec6a9-f32c-4bf9-fc6c-a3fbc761bac2"
      },
      "execution_count": null,
      "outputs": [
        {
          "output_type": "stream",
          "name": "stdout",
          "text": [
            "['fit_time', 'score_time', 'test_score']\n",
            "0.37272727272727274\n"
          ]
        }
      ]
    },
    {
      "cell_type": "code",
      "source": [
        "\n",
        "cv= KFold(n_splits=10, random_state=1, shuffle=True)\n",
        "# create model\n",
        "model = svm.SVC (kernel='rbf', random_state=0)\n",
        "# evaluate model\n",
        "scores = cross_val_score(model, x_train, y_train, scoring='accuracy', cv=cv)\n",
        "\n",
        "print(scores.mean())"
      ],
      "metadata": {
        "colab": {
          "base_uri": "https://localhost:8080/"
        },
        "id": "mfHyf57Q5TiC",
        "outputId": "e5032de5-93a2-43b2-c945-67b1bfc921de"
      },
      "execution_count": null,
      "outputs": [
        {
          "output_type": "stream",
          "name": "stdout",
          "text": [
            "0.9627272727272727\n"
          ]
        }
      ]
    },
    {
      "cell_type": "markdown",
      "source": [
        "*  1.2 Apply **feature selection** to the dataset and then use **RandomForest** algorithm with cross validation "
      ],
      "metadata": {
        "id": "2g--8cng53sY"
      }
    },
    {
      "cell_type": "code",
      "source": [
        "#code\n",
        "\n",
        "\n",
        "rfc=RandomForestClassifier(n_estimators=100)\n",
        "\n",
        "sfm = SelectFromModel(rfc, threshold=0.01)\n",
        "Xtrain_new = sfm.fit_transform(Xtrain, ytrain)\n",
        "rfc.fit(Xtrain_new, ytrain)\n",
        "x_train, x_test, y_train, y_test = train_test_split(Xtrain_new,ytrain, test_size = 0.3, random_state = 0)\n",
        "\n",
        "scores = cross_validate(rfc,x_train,y_train,scoring='accuracy',cv=10)\n",
        "\n",
        "print(sorted(scores.keys()))\n",
        "print(np.mean(scores['test_score']))\n",
        "# rfc.fit(Xtrain_new,ytrain)"
      ],
      "metadata": {
        "id": "fX0_kItYPism",
        "colab": {
          "base_uri": "https://localhost:8080/"
        },
        "outputId": "bf477ece-08ce-4d75-919d-d21f61828aa3"
      },
      "execution_count": null,
      "outputs": [
        {
          "output_type": "stream",
          "name": "stdout",
          "text": [
            "['fit_time', 'score_time', 'test_score']\n",
            "0.9689650793650794\n"
          ]
        }
      ]
    },
    {
      "cell_type": "code",
      "source": [
        "\n",
        "cv= KFold(n_splits=10, random_state=1, shuffle=True)\n",
        "\n",
        "# evaluate model\n",
        "scores = cross_val_score(rfc, x_train, y_train, scoring='accuracy', cv=cv)\n",
        "\n",
        "print(scores.mean())"
      ],
      "metadata": {
        "colab": {
          "base_uri": "https://localhost:8080/"
        },
        "id": "rCPHofFd516b",
        "outputId": "c16f80c4-b240-4dc6-b01a-22e1e748b3b6"
      },
      "execution_count": null,
      "outputs": [
        {
          "output_type": "stream",
          "name": "stdout",
          "text": [
            "0.9518181818181818\n"
          ]
        }
      ]
    },
    {
      "cell_type": "markdown",
      "source": [
        "#Task 2. With mnist dataset: \n",
        "*   2.1. Apply **K-Means** algorithm using k=10, "
      ],
      "metadata": {
        "id": "kNv07ARGzOUm"
      }
    },
    {
      "cell_type": "code",
      "source": [
        "# code\n",
        "dataset = datasets.load_digits()\n",
        "Xtrain = dataset['data']\n",
        "ytrain = dataset['target']\n",
        "\n",
        "\n",
        "kmeans = KMeans(n_clusters = 10, random_state = 0)\n",
        "kmeans.fit(dataset.data)\n",
        "clusters = kmeans.predict(dataset.data)\n",
        "# kmeans.cluster_centers_.shape\n",
        "\n",
        "labels = np.zeros_like(clusters)\n",
        "for i in range(10):\n",
        " mask = (clusters == i)\n",
        " #print(mask)\n",
        " labels[mask] = mode(dataset.target[mask])[0]\n",
        " #print(labels[mask])\n",
        "accKM = accuracy_score(dataset.target, labels)\n",
        "preKM= metrics.precision_score(dataset.target, labels,average='macro')\n",
        "\n",
        "recallKM= metrics.recall_score(dataset.target, labels,average='macro')\n",
        "f1KM = metrics.f1_score(dataset.target, labels,average='macro') \n",
        "accKM\n"
      ],
      "metadata": {
        "id": "sOsg77IBzEyo",
        "colab": {
          "base_uri": "https://localhost:8080/"
        },
        "outputId": "a29a9cff-49ed-4be8-fe54-eaa562d09e08"
      },
      "execution_count": 2,
      "outputs": [
        {
          "output_type": "stream",
          "name": "stderr",
          "text": [
            "/usr/local/lib/python3.9/dist-packages/sklearn/cluster/_kmeans.py:870: FutureWarning: The default value of `n_init` will change from 10 to 'auto' in 1.4. Set the value of `n_init` explicitly to suppress the warning\n",
            "  warnings.warn(\n",
            "<ipython-input-2-4737323bb15d>:16: FutureWarning: Unlike other reduction functions (e.g. `skew`, `kurtosis`), the default behavior of `mode` typically preserves the axis it acts along. In SciPy 1.11.0, this behavior will change: the default value of `keepdims` will become False, the `axis` over which the statistic is taken will be eliminated, and the value None will no longer be accepted. Set `keepdims` to True or False to avoid this warning.\n",
            "  labels[mask] = mode(dataset.target[mask])[0]\n"
          ]
        },
        {
          "output_type": "execute_result",
          "data": {
            "text/plain": [
              "0.7935447968836951"
            ]
          },
          "metadata": {},
          "execution_count": 2
        }
      ]
    },
    {
      "cell_type": "markdown",
      "source": [
        "*   2.2. Compare the obtained result with with other classification algorithms such as **Randomforest**, **kNN**, and **Naïve Bayes** in terms of accuracy, precision, recall, f1 using cross validation. \n"
      ],
      "metadata": {
        "id": "pnoVB8J4vV36"
      }
    },
    {
      "cell_type": "code",
      "source": [
        "# Random Forest\n",
        "\n",
        "rfc=RandomForestClassifier(n_estimators=100)\n",
        "\n",
        "rfc.fit(Xtrain,ytrain)\n",
        "x_train, x_test, y_train, y_test = train_test_split(Xtrain,ytrain, test_size = 0.3, random_state = 0)\n",
        "\n",
        "cv= KFold(n_splits=10, random_state=1, shuffle=True)\n",
        "\n",
        "# evaluate model\n",
        "accRFC = cross_val_score(rfc, x_train, y_train, scoring='accuracy', cv=cv).mean()\n",
        "\n",
        "\n",
        "\n",
        "\n",
        "# y_predRFC = rfc.predict(x_test)\n",
        "\n",
        "preRFC= cross_val_score(rfc, x_train, y_train, scoring='precision_macro', cv=cv).mean()\n",
        "\n",
        "recallRFC= cross_val_score(rfc, x_train, y_train, scoring='recall_macro', cv=cv).mean()\n",
        "\n",
        "f1RFC = cross_val_score(rfc, x_train, y_train, scoring='f1_macro', cv=cv).mean()\n",
        "\n",
        "\n",
        "# GaussianNB Naive Bayes\n",
        "\n",
        "nb = GaussianNB()\n",
        "nb.fit(Xtrain, ytrain)\n",
        "\n",
        "\n",
        "y_predNB = nb.predict(x_test)\n",
        "\n",
        "scores = cross_val_score(nb, x_train, y_train, scoring='accuracy', cv=cv)\n",
        "\n",
        "accNB =    scores.mean()\n",
        "\n",
        "preNB= cross_val_score(nb, x_train, y_train, scoring='precision_macro', cv=cv).mean()\n",
        "\n",
        "recallNB=cross_val_score(nb, x_train, y_train, scoring='recall_macro', cv=cv).mean()\n",
        "f1NB =cross_val_score(nb, x_train, y_train, scoring='f1_macro', cv=cv).mean()\n",
        "\n",
        "#Knn\n",
        "knn = KNeighborsClassifier(n_neighbors=4)\n",
        "knn.fit(Xtrain, ytrain)\n",
        "y_predKnnBest = knn.predict(x_test)\n",
        "    \n",
        "scores = cross_val_score(knn, x_train, y_train, scoring='accuracy', cv=cv)\n",
        "\n",
        "accKnn =  scores.mean()\n",
        "\n",
        "preKnn =  cross_val_score(knn, x_train, y_train, scoring='precision_macro', cv=cv).mean()\n",
        "recallKnn=  cross_val_score(knn, x_train, y_train, scoring='recall_macro', cv=cv).mean()\n",
        "f1Knn = cross_val_score(knn, x_train, y_train, scoring='f1_macro', cv=cv).mean()\n",
        "\n",
        "#Table\n",
        "t3 = PrettyTable(['Name Metric measure','KMean','Random Forest',\"Naive Bayes (Gaussian)\",\"Knn\"])\n",
        "t3.add_row(['Accuracy',accKM,accRFC,accNB,accKnn])\n",
        "t3.add_row(['Precision Score',preKM,preRFC,preNB,preKnn])\n",
        "t3.add_row(['Recall Score',recallKM,recallRFC,recallNB,recallKnn])\n",
        "t3.add_row(['F1',f1KM,f1RFC,f1NB,f1Knn])\n",
        "\n",
        "print(t3)"
      ],
      "metadata": {
        "id": "-ZTSvsJdvYqI",
        "colab": {
          "base_uri": "https://localhost:8080/"
        },
        "outputId": "d0cd41f5-795e-4e9e-93e0-e89b7b9a4405"
      },
      "execution_count": 7,
      "outputs": [
        {
          "output_type": "stream",
          "name": "stdout",
          "text": [
            "+---------------------+--------------------+--------------------+------------------------+--------------------+\n",
            "| Name Metric measure |       KMean        |   Random Forest    | Naive Bayes (Gaussian) |        Knn         |\n",
            "+---------------------+--------------------+--------------------+------------------------+--------------------+\n",
            "|       Accuracy      | 0.7935447968836951 | 0.9689714285714285 |   0.8488444444444445   | 0.9824952380952382 |\n",
            "|   Precision Score   | 0.8049510946090495 | 0.966558411359882  |   0.8631844675792044   | 0.9813171648612824 |\n",
            "|     Recall Score    | 0.7935735538874538 | 0.971876389992876  |   0.8497928746949646   | 0.9832475996225994 |\n",
            "|          F1         | 0.7899801068577756 | 0.9709921136764935 |   0.8411400564037403   | 0.9810364517430715 |\n",
            "+---------------------+--------------------+--------------------+------------------------+--------------------+\n"
          ]
        }
      ]
    },
    {
      "cell_type": "markdown",
      "source": [
        "*   2.3. From the obtained results, **which approach is better** for this problem: Supervised learning or Unsupervised learning?"
      ],
      "metadata": {
        "id": "uyey-ndXvZlb"
      }
    },
    {
      "cell_type": "code",
      "source": [
        "#code\n",
        "# Supervised learning is better than Unsupervised learning because Supervised learning have score metric measure higher than Supervised learning in 4 measure accuracy, precision,recall,f1 ."
      ],
      "metadata": {
        "id": "Qzh_D-rgvbv9"
      },
      "execution_count": null,
      "outputs": []
    },
    {
      "cell_type": "markdown",
      "source": [
        "2.4. Apply **AgglomerativeClustering** algorithm to mnist dataset using the number of clusters is 10"
      ],
      "metadata": {
        "id": "ol1U_T_NvcqV"
      }
    },
    {
      "cell_type": "code",
      "source": [],
      "metadata": {
        "id": "E8Qp0_Lq280H"
      },
      "execution_count": null,
      "outputs": []
    },
    {
      "cell_type": "markdown",
      "source": [
        "#Task 3. \n",
        "For given dataset (shopping-data.csv) including 5 attributes: **CustomerID**, **Genre**, **Age**, **Annual Income**, and **Spending Score**.\n",
        "*   3.1. Using the **scipy library** to create the dendrograms for the given dataset (remember drop categorical attributes: **CustomerID**, **Genre**)\n",
        "\n",
        "\n",
        "\n"
      ],
      "metadata": {
        "id": "b52OPWPD2afi"
      }
    },
    {
      "cell_type": "code",
      "source": [
        "#code"
      ],
      "metadata": {
        "id": "YYY2dLtH3P8H"
      },
      "execution_count": null,
      "outputs": []
    },
    {
      "cell_type": "markdown",
      "source": [
        "*   3.2. Apply K-Means to the preprocessed dataset with k belongs to [2,10]. Then compute SSE values and plot them to find the best value of k."
      ],
      "metadata": {
        "id": "eHlh_dWUyEMr"
      }
    },
    {
      "cell_type": "code",
      "source": [
        "#code"
      ],
      "metadata": {
        "id": "8vx3mfIidu4P"
      },
      "execution_count": null,
      "outputs": []
    },
    {
      "cell_type": "markdown",
      "source": [
        "*   3.2. From the obtained dengrograms, choose an appropriate number of clusters and apply **AgglomerativeClustering** algorithm to the given dataset"
      ],
      "metadata": {
        "id": "RJpsTIiyv-1h"
      }
    },
    {
      "cell_type": "code",
      "source": [
        "#code"
      ],
      "metadata": {
        "id": "5ZE7A0Au1Pg0"
      },
      "execution_count": null,
      "outputs": []
    },
    {
      "cell_type": "markdown",
      "source": [
        "#Finally,\n",
        "Save a copy in your Github. Remember renaming the notebook."
      ],
      "metadata": {
        "id": "Ok7RGkea_b7n"
      }
    }
  ]
}